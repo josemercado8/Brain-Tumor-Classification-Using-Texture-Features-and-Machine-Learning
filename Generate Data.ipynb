{
 "cells": [
  {
   "cell_type": "code",
   "execution_count": 1,
   "metadata": {},
   "outputs": [
    {
     "name": "stderr",
     "output_type": "stream",
     "text": [
      "c:\\Users\\pepe-\\anaconda3\\Lib\\site-packages\\paramiko\\transport.py:219: CryptographyDeprecationWarning: Blowfish has been deprecated\n",
      "  \"class\": algorithms.Blowfish,\n"
     ]
    }
   ],
   "source": [
    "# Import Necessary Libraries\n",
    "import os\n",
    "import csv\n",
    "import numpy as np\n",
    "from skimage import io, color, filters\n",
    "from skimage.feature import graycomatrix, graycoprops, hog, local_binary_pattern"
   ]
  },
  {
   "cell_type": "code",
   "execution_count": 2,
   "metadata": {},
   "outputs": [],
   "source": [
    "# Define image directories\n",
    "directories = {\n",
    "    'glioma_tumor': 'Data base/glioma_tumor',\n",
    "    'meningioma_tumor': 'Data base/meningioma_tumor',\n",
    "    'pituitary_tumor': 'Data base/pituitary_tumor',\n",
    "    'no_tumor': 'Data base/no_tumor'\n",
    "}"
   ]
  },
  {
   "cell_type": "code",
   "execution_count": 3,
   "metadata": {},
   "outputs": [],
   "source": [
    "# Create a dictionary to map categories to numbers\n",
    "map_categories = {\n",
    "    'glioma_tumor': 0,\n",
    "    'meningioma_tumor': 1,\n",
    "    'pituitary_tumor': 2,\n",
    "    'no_tumor': 3\n",
    "}"
   ]
  },
  {
   "cell_type": "code",
   "execution_count": 4,
   "metadata": {},
   "outputs": [
    {
     "name": "stderr",
     "output_type": "stream",
     "text": [
      "c:\\Users\\pepe-\\anaconda3\\Lib\\site-packages\\skimage\\feature\\texture.py:360: UserWarning: Applying `local_binary_pattern` to floating-point images may give unexpected results when small numerical differences between adjacent pixels are present. It is recommended to use this function with images of integer dtype.\n",
      "  warnings.warn(\n"
     ]
    },
    {
     "name": "stdout",
     "output_type": "stream",
     "text": [
      "Finish\n"
     ]
    }
   ],
   "source": [
    "# Create the file .csv\n",
    "with open('Data_comp.csv', 'w', newline='') as file:\n",
    "    writer = csv.writer(file)\n",
    "\n",
    "    # Write column headers\n",
    "    writer.writerow([\"Image\", \"Contrast\", \"Dissimilarity\", \"Homogeneity\", \"ASM\", \"Energy\", \"Correlation\", \"Entropy\", \n",
    "                     \"Gabor\", \"Gabor_0\", \"Gabor_45\", \"Gabor_90\", \"Gabor_135\", \"HOG\", \"LBP\", \"Category\"])\n",
    "\n",
    "# Iterate on each directory\n",
    "    for category, directories in directories.items():\n",
    "        for filename in os.listdir(directories):\n",
    "            if filename.endswith(\".jpg\"):\n",
    "                # Load Image\n",
    "                image = io.imread(os.path.join(directories, filename))\n",
    "\n",
    "                # Convert image to grayscale\n",
    "                image_gray = color.rgb2gray(image)\n",
    "\n",
    "                # Quantize the image in grayscale at 8 levels\n",
    "                image_quan = np.floor(image_gray * 8).astype(np.uint8)\n",
    "\n",
    "                # Calculate the gray level co-occurrence matrix.\n",
    "                glcm = graycomatrix(image_quan, distances=[5], angles=[0], levels=256, symmetric=True, normed=True)\n",
    "\n",
    "                # Calculate Haralick's features\n",
    "                contrast = graycoprops(glcm, 'contrast')[0, 0]\n",
    "                dissimilarity = graycoprops(glcm, 'dissimilarity')[0, 0]\n",
    "                homogeneity = graycoprops(glcm, 'homogeneity')[0, 0]\n",
    "                ASM = graycoprops(glcm, 'ASM')[0, 0]\n",
    "                energy = graycoprops(glcm, 'energy')[0, 0]\n",
    "                correlation = graycoprops(glcm, 'correlation')[0, 0]\n",
    "\n",
    "                # Calculate entropy\n",
    "                entropy = -np.sum(glcm * np.log2(glcm + np.finfo(float).eps))\n",
    "\n",
    "                # Category number\n",
    "                categoria_num = map_categories[category]\n",
    "\n",
    "                # Calculate Gabor's features\n",
    "                gabor_real_filter, gabor_imaginary_filter = filters.gabor(image_gray, frequency=0.6)\n",
    "                gabor = (gabor_real_filter ** 2 + gabor_imaginary_filter ** 2).mean()\n",
    "\n",
    "                # Calculate the Gabor features for several orientations\n",
    "                gabor_0 = filters.gabor(image_gray, frequency=0.6, theta=0)[0].mean()\n",
    "                gabor_45 = filters.gabor(image_gray, frequency=0.6, theta=np.pi / 4)[0].mean()\n",
    "                gabor_90 = filters.gabor(image_gray, frequency=0.6, theta=np.pi / 2)[0].mean()\n",
    "                gabor_135 = filters.gabor(image_gray, frequency=0.6, theta=3 * np.pi / 4)[0].mean()\n",
    "\n",
    "                # Calculate the features of HOG (Histograms of Oriented Gradients)\n",
    "                hog_features = hog(image_gray, orientations=8, pixels_per_cell=(16, 16), cells_per_block=(1, 1), block_norm='L2-Hys')\n",
    "                hog_features_mean = hog_features.mean()\n",
    "\n",
    "                # Calculate LBP features (Local Binary Patterns)\n",
    "                lbp = local_binary_pattern(image_gray, 8, 1, method=\"uniform\")\n",
    "                lbp_hist, _ = np.histogram(lbp, 8)\n",
    "                lbp_hist = np.array(lbp_hist, dtype=float)\n",
    "                lbp_prob = np.divide(lbp_hist, np.sum(lbp_hist))\n",
    "                lbp_energy = np.sum(lbp_prob**2)\n",
    "                lbp_entropy = -np.sum(np.multiply(lbp_prob, np.log2(lbp_prob)))\n",
    "\n",
    "                # File name without .jpg extension\n",
    "                name = os.path.splitext(filename)[0]\n",
    "\n",
    "                # Escribir los resultados en el archivo .csv\n",
    "                writer.writerow([name, contrast, dissimilarity, homogeneity, ASM, energy, correlation, entropy, \n",
    "                                 gabor, gabor_0, gabor_45, gabor_90, gabor_135, hog_features_mean, lbp_entropy, category])\n",
    "\n",
    "print('Finish')"
   ]
  }
 ],
 "metadata": {
  "kernelspec": {
   "display_name": "base",
   "language": "python",
   "name": "python3"
  },
  "language_info": {
   "codemirror_mode": {
    "name": "ipython",
    "version": 3
   },
   "file_extension": ".py",
   "mimetype": "text/x-python",
   "name": "python",
   "nbconvert_exporter": "python",
   "pygments_lexer": "ipython3",
   "version": "3.11.5"
  }
 },
 "nbformat": 4,
 "nbformat_minor": 2
}
